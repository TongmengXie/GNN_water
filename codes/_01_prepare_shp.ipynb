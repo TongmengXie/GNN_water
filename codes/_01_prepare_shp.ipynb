{
 "cells": [
  {
   "cell_type": "code",
   "execution_count": 3,
   "id": "61fb5e00",
   "metadata": {},
   "outputs": [
    {
     "name": "stdout",
     "output_type": "stream",
     "text": [
      "\u001b[31mERROR: Could not find a version that satisfies the requirement arcpy (from versions: none)\u001b[0m\u001b[31m\n",
      "\u001b[0m\u001b[31mERROR: No matching distribution found for arcpy\u001b[0m\u001b[31m\n",
      "\u001b[0m"
     ]
    },
    {
     "ename": "ModuleNotFoundError",
     "evalue": "No module named 'arcpy'",
     "output_type": "error",
     "traceback": [
      "\u001b[31m---------------------------------------------------------------------------\u001b[39m",
      "\u001b[31mModuleNotFoundError\u001b[39m                       Traceback (most recent call last)",
      "\u001b[36mCell\u001b[39m\u001b[36m \u001b[39m\u001b[32mIn[3]\u001b[39m\u001b[32m, line 2\u001b[39m\n\u001b[32m      1\u001b[39m \u001b[38;5;28;01mtry\u001b[39;00m:\n\u001b[32m----> \u001b[39m\u001b[32m2\u001b[39m     \u001b[38;5;28;01mimport\u001b[39;00m\u001b[38;5;250m \u001b[39m\u001b[34;01marcpy\u001b[39;00m\n\u001b[32m      3\u001b[39m \u001b[38;5;28;01mexcept\u001b[39;00m:\n",
      "\u001b[31mModuleNotFoundError\u001b[39m: No module named 'arcpy'",
      "\nDuring handling of the above exception, another exception occurred:\n",
      "\u001b[31mModuleNotFoundError\u001b[39m                       Traceback (most recent call last)",
      "\u001b[36mCell\u001b[39m\u001b[36m \u001b[39m\u001b[32mIn[3]\u001b[39m\u001b[32m, line 5\u001b[39m\n\u001b[32m      3\u001b[39m \u001b[38;5;28;01mexcept\u001b[39;00m:\n\u001b[32m      4\u001b[39m     get_ipython().system(\u001b[33m'\u001b[39m\u001b[33mpip install arcpy\u001b[39m\u001b[33m'\u001b[39m)\n\u001b[32m----> \u001b[39m\u001b[32m5\u001b[39m     \u001b[38;5;28;01mimport\u001b[39;00m\u001b[38;5;250m \u001b[39m\u001b[34;01marcpy\u001b[39;00m\n\u001b[32m      7\u001b[39m \u001b[38;5;66;03m# Set the path to your .mpkx file\u001b[39;00m\n\u001b[32m      8\u001b[39m mpkx_path = \u001b[33m\"\u001b[39m\u001b[33m../ori_data/ToFV_All_Public_Utility_Layers_Package.mpkx\u001b[39m\u001b[33m\"\u001b[39m\n",
      "\u001b[31mModuleNotFoundError\u001b[39m: No module named 'arcpy'"
     ]
    }
   ],
   "source": [
    "try:\n",
    "    import arcpy\n",
    "except:\n",
    "    !pip install arcpy\n",
    "    import arcpy\n",
    "\n",
    "# Set the path to your .mpkx file\n",
    "mpkx_path = \"../ori_data/ToFV_All_Public_Utility_Layers_Package.mpkx\"\n",
    "\n",
    "# Set the output directory for the shapefiles\n",
    "output_directory = \"../int_data/\"\n",
    "\n",
    "# Open the map package\n",
    "aprx = arcpy.mp.ArcGISProject(mpkx_path)\n",
    "\n",
    "# Iterate through each map in the project\n",
    "for map in aprx.listMaps():\n",
    "    # Iterate through each layer in the map\n",
    "    for layer in map.listLayers():\n",
    "        if layer.isFeatureLayer:\n",
    "            # Define the output shapefile path\n",
    "            output_shapefile = f\"{output_directory}\\\\{layer.name}.shp\"\n",
    "            # Export the layer to a shapefile\n",
    "            arcpy.conversion.FeatureClassToShapefile(layer, output_directory)\n"
   ]
  }
 ],
 "metadata": {
  "kernelspec": {
   "display_name": "steering-env",
   "language": "python",
   "name": "python3"
  },
  "language_info": {
   "codemirror_mode": {
    "name": "ipython",
    "version": 3
   },
   "file_extension": ".py",
   "mimetype": "text/x-python",
   "name": "python",
   "nbconvert_exporter": "python",
   "pygments_lexer": "ipython3",
   "version": "undefined.undefined.undefined"
  }
 },
 "nbformat": 4,
 "nbformat_minor": 5
}
